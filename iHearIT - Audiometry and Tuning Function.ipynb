{
 "cells": [
  {
   "cell_type": "code",
   "execution_count": 2,
   "metadata": {},
   "outputs": [
    {
     "name": "stdout",
     "output_type": "stream",
     "text": [
      "Wall time: 0 ns\n"
     ]
    }
   ],
   "source": [
    "%%time\n",
    "import matplotlib.pyplot as plt\n",
    "from sklearn.cluster import KMeans\n",
    "import numpy as np\n",
    "import pyaudio\n",
    "import pandas as pd\n",
    "import numpy as np\n",
    "from sklearn.cross_validation import train_test_split\n",
    "from sklearn.tree import DecisionTreeRegressor\n",
    "from sklearn.metrics import accuracy_score\n",
    "from sklearn import tree"
   ]
  },
  {
   "cell_type": "markdown",
   "metadata": {},
   "source": [
    "# Function to conduct audiometry"
   ]
  },
  {
   "cell_type": "code",
   "execution_count": 3,
   "metadata": {},
   "outputs": [],
   "source": [
    "def test():\n",
    "    \n",
    "    S = \"Press 't' if heard \\nPress 'f' if not \\n\"\n",
    "    freqs =[250.0,500.0,1000.0,2000.0,4000.0, 8000.0]\n",
    "    A_f = 1\n",
    "    \n",
    "    points = []\n",
    "    volumes =[]\n",
    "    points2=[]\n",
    "    volumes2=[]\n",
    "    \n",
    "    p = pyaudio.PyAudio()\n",
    "    \n",
    "    stream = p.open(format=pyaudio.paFloat32,channels=1,rate=44100,output=True)\n",
    "    \n",
    "    def play_freqs():\n",
    "        \n",
    "        volume = 0.1*A_f\n",
    "        duration = 1.0  # in seconds, may be float\n",
    "        fs = 44100  # sampling rate, Hz, must be integer\n",
    "        print(\"Audiometric test\\n\")\n",
    "        \n",
    "        i=0\n",
    "        volume = 0.1*A_f\n",
    "                \n",
    "        samples = (np.sin(2 * np.pi * np.arange(fs * duration) * freqs[0] / fs)).astype(np.float32)\n",
    "                \n",
    "        stream.write(volume * samples)\n",
    "                \n",
    "        while i<len(freqs):\n",
    "            \n",
    "            x = input(S)#it should continue until sounds of all frequencies from the list are played\n",
    "            print(\"\\n\")\n",
    "                \n",
    "            if x == 'f':\n",
    "                    \n",
    "                volume = volume + 0.1*A_f\n",
    "                samples = (np.sin(2 * np.pi * np.arange(fs * duration) * freqs[i] / fs)).astype(np.float32)\n",
    "                stream.write(volume*samples)\n",
    "                #points.append(freqs[i])\n",
    "                #volumes.append(float(volume))\n",
    "                    \n",
    "                #stream.write(volume*samples)\n",
    "                #points.append(freqs[i])\n",
    "                #volumes.append(float(volume))\n",
    "                    \n",
    "            if x == 't':\n",
    "                \n",
    "                points2.append(freqs[i])\n",
    "                volumes2.append(float(volume))\n",
    "                \n",
    "                if(i<len(freqs)-1):\n",
    "                    i = i + 1 #it should continue with the next element from list freqs\n",
    "            \n",
    "                    volume = 0.1*A_f\n",
    "                    samples = (np.sin(2 * np.pi * np.arange(fs * duration) * freqs[i] / fs)).astype(np.float32)\n",
    "                    stream.write(volume * samples)\n",
    "                \n",
    "                if(i==len(freqs)-1):\n",
    "                    break\n",
    "                \n",
    "                \n",
    "    play_freqs()\n",
    "    \n",
    "    F = np.array(points2)\n",
    "    I = np.array(volumes2)\n",
    "    plt.plot(np.array(points2),np.array(volumes2),'-o',color=\"green\",markersize=4)\n",
    "    plt.title(\"Results of Audiometry: Audiogram\")\n",
    "    plt.xlabel(\"Frequencies\")\n",
    "    plt.ylabel(\"Intensities\")\n",
    "    \n",
    "    S = pd.DataFrame(I, index = F)\n",
    "    \n",
    "    return S "
   ]
  },
  {
   "cell_type": "code",
   "execution_count": 21,
   "metadata": {},
   "outputs": [
    {
     "name": "stdout",
     "output_type": "stream",
     "text": [
      "Audiometric test\n",
      "\n",
      "Press 't' if heard \n",
      "Press 'f' if not \n",
      "t\n",
      "\n",
      "\n",
      "Press 't' if heard \n",
      "Press 'f' if not \n",
      "f\n",
      "\n",
      "\n",
      "Press 't' if heard \n",
      "Press 'f' if not \n",
      "t\n",
      "\n",
      "\n",
      "Press 't' if heard \n",
      "Press 'f' if not \n",
      "f\n",
      "\n",
      "\n",
      "Press 't' if heard \n",
      "Press 'f' if not \n",
      "f\n",
      "\n",
      "\n",
      "Press 't' if heard \n",
      "Press 'f' if not \n",
      "f\n",
      "\n",
      "\n",
      "Press 't' if heard \n",
      "Press 'f' if not \n",
      "t\n",
      "\n",
      "\n",
      "Press 't' if heard \n",
      "Press 'f' if not \n",
      "f\n",
      "\n",
      "\n",
      "Press 't' if heard \n",
      "Press 'f' if not \n",
      "f\n",
      "\n",
      "\n",
      "Press 't' if heard \n",
      "Press 'f' if not \n",
      "f\n",
      "\n",
      "\n",
      "Press 't' if heard \n",
      "Press 'f' if not \n",
      "f\n",
      "\n",
      "\n",
      "Press 't' if heard \n",
      "Press 'f' if not \n",
      "t\n",
      "\n",
      "\n",
      "Press 't' if heard \n",
      "Press 'f' if not \n",
      "f\n",
      "\n",
      "\n",
      "Press 't' if heard \n",
      "Press 'f' if not \n",
      "f\n",
      "\n",
      "\n",
      "Press 't' if heard \n",
      "Press 'f' if not \n",
      "f\n",
      "\n",
      "\n",
      "Press 't' if heard \n",
      "Press 'f' if not \n",
      "\n",
      "\n",
      "\n",
      "Press 't' if heard \n",
      "Press 'f' if not \n",
      "f\n",
      "\n",
      "\n",
      "Press 't' if heard \n",
      "Press 'f' if not \n",
      "t\n",
      "\n",
      "\n"
     ]
    },
    {
     "data": {
      "image/png": "[encoded data removed]",
      "text/plain": [
       "<Figure size 432x288 with 1 Axes>"
      ]
     },
     "metadata": {
      "needs_background": "light"
     },
     "output_type": "display_data"
    }
   ],
   "source": [
    "S = test()"
   ]
  },
  {
   "cell_type": "markdown",
   "metadata": {},
   "source": [
    "# Preprocessing of audiogram for further analysis"
   ]
  },
  {
   "cell_type": "code",
   "execution_count": 22,
   "metadata": {},
   "outputs": [],
   "source": [
    "F = S.index.values\n",
    "I = S.values\n",
    "F = F.reshape(-1,1)  # saves the use of len()\n",
    "X_train, X_test, y_train, y_test = train_test_split(F, I, random_state = 0) \n",
    "score_mse = {}\n",
    "trained_models = {}"
   ]
  },
  {
   "cell_type": "markdown",
   "metadata": {},
   "source": [
    "# Regression using ML algorithms based on Information Entropy"
   ]
  },
  {
   "cell_type": "code",
   "execution_count": 23,
   "metadata": {},
   "outputs": [
    {
     "name": "stdout",
     "output_type": "stream",
     "text": [
      "0.158113883008419\n"
     ]
    },
    {
     "data": {
      "image/png": "[encoded data removed]",
      "text/plain": [
       "<Figure size 432x288 with 1 Axes>"
      ]
     },
     "metadata": {
      "needs_background": "light"
     },
     "output_type": "display_data"
    }
   ],
   "source": [
    "regr = DecisionTreeRegressor(max_depth=10)\n",
    "\n",
    "regr.fit(X_train, y_train)\n",
    "y_pred = regr.predict(X_test)\n",
    "\n",
    "mse = (np.mean((y_test - y_pred)**2))**0.5\n",
    "score_mse['Decision Tree Regression'] = (np.mean((y_test - y_pred)**2))**0.5\n",
    "print((np.mean((y_test - y_pred)**2)**0.5))\n",
    "\n",
    "y_predf = regr.predict(F)\n",
    "plt.plot(F,y_predf)\n",
    "plt.plot(F,I)\n",
    "trained_models['Decision Tree Regression'] = regr\n",
    "if(mse<=0.1):\n",
    "    plt.scatter(F,y_predf)"
   ]
  },
  {
   "cell_type": "markdown",
   "metadata": {},
   "source": [
    "# Polynomial regression using ML based gradient Descent Algorthm "
   ]
  },
  {
   "cell_type": "code",
   "execution_count": 26,
   "metadata": {},
   "outputs": [
    {
     "name": "stdout",
     "output_type": "stream",
     "text": [
      "0.05351187165633857 2\n"
     ]
    },
    {
     "data": {
      "image/png": "[encoded data removed]",
      "text/plain": [
       "<Figure size 432x288 with 1 Axes>"
      ]
     },
     "metadata": {
      "needs_background": "light"
     },
     "output_type": "display_data"
    }
   ],
   "source": [
    "x = X_train\n",
    "y = y_train\n",
    "\n",
    "from sklearn.preprocessing import PolynomialFeatures\n",
    "\n",
    "models = []\n",
    "for j in range(10):\n",
    "    poly = PolynomialFeatures(degree=j)\n",
    "    poly_x = poly.fit_transform(x)\n",
    "    models.append(poly_x)\n",
    "\n",
    "from sklearn.linear_model import LinearRegression\n",
    "regressors = []\n",
    "y_preds = []\n",
    "mses = []\n",
    "\n",
    "for model in models:\n",
    "    regressor = LinearRegression()\n",
    "    regressor.fit(model,y)\n",
    "    regressors.append(regressor)\n",
    "\n",
    "j=0\n",
    "min_mse = -1\n",
    "minj = -1\n",
    "for regressor in regressors:\n",
    "    poly = PolynomialFeatures(degree=j)\n",
    "    poly_x = poly.fit_transform(X_test)    \n",
    "    y_pred  = regressor.predict(poly_x)\n",
    "    mse = (np.mean((y_pred - y_test)**2))**0.5\n",
    "    if(j==0):\n",
    "        min_mse = mse\n",
    "        minj = 0\n",
    "    elif(min_mse>mse):\n",
    "        min_mse = mse\n",
    "        minj = j\n",
    "    j+=1\n",
    "    \n",
    "\n",
    "print(min_mse,minj)\n",
    "\n",
    "score_mse['Polynomial_Regression'] = min_mse\n",
    "poly = PolynomialFeatures(degree=minj)\n",
    "poly_x = poly.fit_transform(F)    \n",
    "y_pred  = regressors[minj].predict(poly_x)\n",
    "\n",
    "if(min_mse<=0.1):\n",
    "    plt.plot(F,y_pred)\n",
    "    plt.scatter(F,I,color = 'r')\n",
    "trained_models['Polynomial_Regression'] = regressors[minj]"
   ]
  },
  {
   "cell_type": "markdown",
   "metadata": {},
   "source": [
    "# Considering regularization term for polynomial Regression using gradient descent"
   ]
  },
  {
   "cell_type": "code",
   "execution_count": 27,
   "metadata": {},
   "outputs": [
    {
     "name": "stdout",
     "output_type": "stream",
     "text": [
      "0.1221796552322688\n"
     ]
    }
   ],
   "source": [
    "#Import Linear Regression model from scikit-learn.\n",
    "from sklearn.linear_model import LinearRegression, Ridge\n",
    "\n",
    "# Create linear regression object with a ridge coefficient 0.5\n",
    "ridge = Ridge(fit_intercept=True, alpha=0.5)\n",
    "\n",
    "# Train the model using the training set\n",
    "ridge.fit(X_train,y_train)\n",
    "p = ridge.predict(X_test)\n",
    "mse = (np.mean((p-y_test)**2))**0.5\n",
    "\n",
    "print(mse)\n",
    "score_mse['Ridge_Regression'] = mse\n",
    "trained_models['Ridge_Regression'] = ridge\n",
    "\n",
    "if(mse<=0.1):\n",
    "    plt.scatter(F,ridge.predict(F))\n",
    "    plt.scatter(F,I)\n",
    "\n"
   ]
  },
  {
   "cell_type": "markdown",
   "metadata": {},
   "source": [
    "# Selecting the best algorithm and Extrapolation of Continuous Data"
   ]
  },
  {
   "cell_type": "code",
   "execution_count": 32,
   "metadata": {},
   "outputs": [
    {
     "name": "stdout",
     "output_type": "stream",
     "text": [
      "Model Used:  Polynomial_Regression\n"
     ]
    },
    {
     "data": {
      "image/png": "[encoded data removed]",
      "text/plain": [
       "<Figure size 432x288 with 1 Axes>"
      ]
     },
     "metadata": {
      "needs_background": "light"
     },
     "output_type": "display_data"
    }
   ],
   "source": [
    "def pred_adj(x,m):\n",
    "    if(m=='Polynomial_Regression'):\n",
    "        poly = PolynomialFeatures(degree=minj)\n",
    "        poly_x = poly.fit_transform(x)  \n",
    "        return poly_x\n",
    "    else:\n",
    "        return x\n",
    "\n",
    "f_sam = 25\n",
    "X_f = np.arange(250,8000+ f_sam,f_sam)\n",
    "X_f = X_f.reshape(-1,1)\n",
    "#print(score_mse)\n",
    "\n",
    "Y_i = trained_models[min(score_mse, key=score_mse.get)].predict(pred_adj(X_f,min(score_mse, key=score_mse.get)))\n",
    "\n",
    "for y in Y_i:\n",
    "    if(y<=0):\n",
    "        y = 0.2\n",
    "Y_i += 0.1\n",
    "\n",
    "import pandas as pd\n",
    "#print(np.shape(Y_i),np.shape(X_f))\n",
    "X_f = X_f.reshape(-1,)\n",
    "\n",
    "X_o = np.array([])\n",
    "\n",
    "\n",
    "Q = pd.DataFrame(Y_i, index = X_f)\n",
    "for i in F:\n",
    "    Q.loc[i] = S.loc[i]\n",
    "\n",
    "#print(S.loc[2000])\n",
    "\n",
    "print(\"Model Used: \", min(score_mse, key=score_mse.get) )\n",
    "\n",
    "if(score_mse[min(score_mse, key=score_mse.get)] <= 0.1):\n",
    "    plt.scatter(Q.index,Q.values)\n",
    "else:\n",
    "    plt.plot(S.index,S.values)\n",
    "\n",
    "#plt.scatter(F,I)\n",
    "#print(np.shape(Y_i),np.shape(X_f))\n",
    "#print(np.shape(S.loc[3000]))\n",
    "#print(type(S.loc[3000].values))"
   ]
  },
  {
   "cell_type": "markdown",
   "metadata": {},
   "source": [
    "# Designing the update function based on Continuous Audiogram obtained above"
   ]
  },
  {
   "cell_type": "code",
   "execution_count": 33,
   "metadata": {},
   "outputs": [],
   "source": [
    "def min_f(f):\n",
    "    if(f<250):\n",
    "        return 250\n",
    "    else:\n",
    "        return f \n",
    "\n",
    "def max_f(f):\n",
    "    if(f>8000):\n",
    "        return 8000\n",
    "    else:\n",
    "        return f\n",
    "\n",
    "def audio_shift(f,i,shift_limit = 100):\n",
    "    \n",
    "    if(i>=Q.loc[f].values):\n",
    "        return (f,i)\n",
    "    \n",
    "    else:\n",
    "        D = Q.loc[min_f(f-shift_limit):max_f(f+shift_limit)]\n",
    "        minf = f\n",
    "        mini = Q.loc[minf].values\n",
    "        #print(D)\n",
    "        for j in range(min_f(f-shift_limit),max_f(f+shift_limit),25):\n",
    "            if(D.loc[j].values < mini):\n",
    "                minf = j\n",
    "                mini = D.loc[j].values\n",
    "        \n",
    "        return(minf, mini)"
   ]
  },
  {
   "cell_type": "markdown",
   "metadata": {},
   "source": [
    "# Measure time taken to shift one sample to audible region"
   ]
  },
  {
   "cell_type": "code",
   "execution_count": 34,
   "metadata": {},
   "outputs": [
    {
     "name": "stdout",
     "output_type": "stream",
     "text": [
      "2000 [0.5]\n",
      "Wall time: 4.45 ms\n"
     ]
    }
   ],
   "source": [
    "%%time\n",
    "Fi = 2000\n",
    "Ii = 0.2 \n",
    "Ff,If = audio_shift(Fi,Ii)\n",
    "print(Ff,If)"
   ]
  },
  {
   "cell_type": "code",
   "execution_count": 35,
   "metadata": {},
   "outputs": [
    {
     "data": {
      "text/plain": [
       "<matplotlib.collections.PathCollection at 0x1febc453198>"
      ]
     },
     "execution_count": 35,
     "metadata": {},
     "output_type": "execute_result"
    },
    {
     "data": {
      "image/png": "[encoded data removed]",
      "text/plain": [
       "<Figure size 432x288 with 1 Axes>"
      ]
     },
     "metadata": {
      "needs_background": "light"
     },
     "output_type": "display_data"
    }
   ],
   "source": [
    "plt.plot(Q)\n",
    "def c(x):\n",
    "    return np.array(x)\n",
    "plt.scatter(c(Fi),c(Ii))\n",
    "plt.scatter(c(Ff),c(If))"
   ]
  },
  {
   "cell_type": "code",
   "execution_count": null,
   "metadata": {},
   "outputs": [],
   "source": []
  }
 ],
 "metadata": {
  "kernelspec": {
   "display_name": "Python 3",
   "language": "python",
   "name": "python3"
  },
  "language_info": {
   "codemirror_mode": {
    "name": "ipython",
    "version": 3
   },
   "file_extension": ".py",
   "mimetype": "text/x-python",
   "name": "python",
   "nbconvert_exporter": "python",
   "pygments_lexer": "ipython3",
   "version": "3.7.0"
  }
 },
 "nbformat": 4,
 "nbformat_minor": 2
}
